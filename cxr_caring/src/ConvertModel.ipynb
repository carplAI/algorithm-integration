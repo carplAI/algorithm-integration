{
 "cells": [
  {
   "cell_type": "code",
   "execution_count": 1,
   "metadata": {},
   "outputs": [],
   "source": [
    "from models.densenet121 import DenseNet121\n",
    "from constant import *\n",
    "from utils import *\n",
    "import torch\n",
    "import torchvision\n",
    "from models.densenet import DenseNet\n",
    "from torch.autograd import Variable\n",
    "import numpy as np\n",
    "import os\n",
    "import shutil"
   ]
  },
  {
   "cell_type": "code",
   "execution_count": 2,
   "metadata": {},
   "outputs": [],
   "source": [
    "def convert(model_name):\n",
    "    # get old network\n",
    "    from_model = '%s/densenet121/%s/model.path.tar' % (MODEL_DIR, model_name)\n",
    "    from_net = DenseNet121(14)\n",
    "    parallel_net = torch.nn.DataParallel(from_net, device_ids=[0]).cuda()\n",
    "    checkpoint = torch.load(from_model)\n",
    "    parallel_net.load_state_dict(checkpoint['state_dict'])\n",
    "    \n",
    "    # create folder\n",
    "    to_path = '%s/densenet/densenet121/%s' % (MODEL_DIR, model_name)\n",
    "    to_model = '%s/model.path.tar' % to_path\n",
    "    if not os.path.isdir(to_path):\n",
    "        os.makedirs(to_path)\n",
    "        \n",
    "    # convert to new\n",
    "    to_net = DenseNet('densenet121')\n",
    "    to_net.features = from_net.densenet121.features\n",
    "    to_net.classifier = from_net.densenet121.classifier\n",
    "    checkpoint['state_dict'] = to_net.state_dict()\n",
    "    torch.save(checkpoint, to_model)\n",
    "    \n",
    "    # move stat\n",
    "    from_stat = '%s/densenet121/%s/stat.h5' % (LOG_DIR, model_name)\n",
    "    to_path = '%s/densenet/densenet121/%s' % (LOG_DIR, model_name)\n",
    "    to_stat = '%s/stat.h5' % to_path\n",
    "    if not os.path.isdir(to_path):\n",
    "        os.makedirs(to_path)\n",
    "    try:\n",
    "        shutil.copyfile(from_stat, to_stat)\n",
    "    except:\n",
    "        print('model', model_name)"
   ]
  },
  {
   "cell_type": "code",
   "execution_count": 3,
   "metadata": {},
   "outputs": [],
   "source": [
    "model_names = [\n",
    "#     '20180420-092017',\n",
    "#     '20180422-075022',\n",
    "#     '20180426-065637',\n",
    "#     '20180427-091900',\n",
    "#     '20180427-230838',\n",
    "#     '20180428-111638',\n",
    "#     '20180429-131436',\n",
    "#     '20180429-131732',\n",
    "#     '20180429-195702',\n",
    "#     '20180429-200046',\n",
    "#     '20180429-200210',\n",
    "#     '20180430-113040',\n",
    "#     '20180430-162711',\n",
    "#     '20180501-055454',\n",
    "#     '20180501-055908',\n",
    "#     '20180430-213936',\n",
    "#     '20180430-215023',\n",
    "#     '20180430-214452'\n",
    "    '20180429-130928' # best densenet121 model\n",
    "]\n",
    "for model_name in model_names:\n",
    "    convert(model_name)"
   ]
  },
  {
   "cell_type": "code",
   "execution_count": 6,
   "metadata": {},
   "outputs": [],
   "source": [
    "# test\n",
    "model_name = '20180429-130928'\n",
    "to_path = '%s/densenet/densenet121/%s' % (MODEL_DIR, model_name)\n",
    "to_model = '%s/model.path.tar' % to_path\n",
    "test_net = DenseNet('densenet121')\n",
    "test_loader = test_dataloader(test_net, image_list_file=CHEXNET_TEST_CSV, percentage=1, agumented=True)\n",
    "test_checkpoint = torch.load(to_model)\n",
    "test_net.load_state_dict(test_checkpoint['state_dict'])\n",
    "test_net = torch.nn.DataParallel(test_net, device_ids=[0]).cuda()"
   ]
  },
  {
   "cell_type": "code",
   "execution_count": 7,
   "metadata": {},
   "outputs": [],
   "source": [
    "def test(model, dataloader, agumented=False):\n",
    "    model.eval()\n",
    "    targets = torch.FloatTensor()\n",
    "    targets = targets.cuda()\n",
    "    preds = torch.FloatTensor()\n",
    "    preds = preds.cuda()\n",
    "    \n",
    "    for data, target in dataloader:\n",
    "        target = target.cuda()\n",
    "        if agumented:\n",
    "            bs, cs, c, h, w = data.size()\n",
    "            data = data.view(-1, c, h, w)\n",
    "        data = Variable(data.cuda(), volatile=True)\n",
    "        pred = model(data)\n",
    "        if agumented:\n",
    "            pred = pred.view(bs, cs, -1).mean(1)\n",
    "        targets = torch.cat((targets, target), 0)\n",
    "        preds = torch.cat((preds, pred.data), 0)\n",
    "    aurocs = compute_aucs(targets, preds)\n",
    "    aurocs_avg = np.array(aurocs).mean()\n",
    "    \n",
    "    print('The average AUROC is {0:.3f}'.format(aurocs_avg))\n",
    "    for i in range(N_CLASSES):\n",
    "        print('The AUROC of {} is {}'.format(CLASS_NAMES[i], aurocs[i]))"
   ]
  },
  {
   "cell_type": "code",
   "execution_count": 8,
   "metadata": {},
   "outputs": [
    {
     "name": "stdout",
     "output_type": "stream",
     "text": [
      "The average AUROC is 0.849\n",
      "The AUROC of Atelectasis is 0.8283099353189022\n",
      "The AUROC of Cardiomegaly is 0.9177011251303541\n",
      "The AUROC of Effusion is 0.8851548655853833\n",
      "The AUROC of Infiltration is 0.7112059234984651\n",
      "The AUROC of Mass is 0.8659420956453638\n",
      "The AUROC of Nodule is 0.7885605536921866\n",
      "The AUROC of Pneumonia is 0.7739571101529881\n",
      "The AUROC of Pneumothorax is 0.8874663477489905\n",
      "The AUROC of Consolidation is 0.8162082170702861\n",
      "The AUROC of Edema is 0.8971113097712183\n",
      "The AUROC of Emphysema is 0.9271256410339128\n",
      "The AUROC of Fibrosis is 0.8408021976288977\n",
      "The AUROC of Pleural Thickening is 0.7873279987663767\n",
      "The AUROC of Hernia is 0.957229839369985\n"
     ]
    }
   ],
   "source": [
    "test(test_net, test_loader, True)"
   ]
  },
  {
   "cell_type": "code",
   "execution_count": null,
   "metadata": {},
   "outputs": [],
   "source": []
  }
 ],
 "metadata": {
  "kernelspec": {
   "display_name": "Python 3",
   "language": "python",
   "name": "python3"
  },
  "language_info": {
   "codemirror_mode": {
    "name": "ipython",
    "version": 3
   },
   "file_extension": ".py",
   "mimetype": "text/x-python",
   "name": "python",
   "nbconvert_exporter": "python",
   "pygments_lexer": "ipython3",
   "version": "3.7.0"
  }
 },
 "nbformat": 4,
 "nbformat_minor": 2
}
